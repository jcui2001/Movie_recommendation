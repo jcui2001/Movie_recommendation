{
  "nbformat": 4,
  "nbformat_minor": 0,
  "metadata": {
    "colab": {
      "name": "Movie_recommendation_engine.ipynb",
      "provenance": [],
      "collapsed_sections": []
    },
    "kernelspec": {
      "name": "python3",
      "display_name": "Python 3"
    },
    "language_info": {
      "name": "python"
    }
  },
  "cells": [
    {
      "cell_type": "code",
      "metadata": {
        "id": "pu8Vf0ebgIOg"
      },
      "source": [
        "# Build a movie recommendation engine using python\n",
        "# Code from: https://www.youtube.com/watch?v=ueKXSupHz6Q&t=679s\n",
        "\n",
        "import pandas as pd\n",
        "pd.options.mode.chained_assignment = None  # default='warn'\n",
        "import numpy as np\n",
        "from sklearn.metrics.pairwise import cosine_similarity\n",
        "from sklearn.feature_extraction.text import CountVectorizer"
      ],
      "execution_count": null,
      "outputs": []
    },
    {
      "cell_type": "code",
      "metadata": {
        "id": "-Ll0oSRMgVLf",
        "colab": {
          "resources": {
            "http://localhost:8080/nbextensions/google.colab/files.js": {
              "data": "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",
              "ok": true,
              "headers": [
                [
                  "content-type",
                  "application/javascript"
                ]
              ],
              "status": 200,
              "status_text": ""
            }
          },
          "base_uri": "https://localhost:8080/",
          "height": 38
        },
        "outputId": "5cd1f9c3-e62e-4bcb-86bd-58cd0f1a8f3f"
      },
      "source": [
        "# Load the data\n",
        "from google.colab import files\n",
        "uploaded = files.upload()\n"
      ],
      "execution_count": null,
      "outputs": [
        {
          "output_type": "display_data",
          "data": {
            "text/html": [
              "\n",
              "     <input type=\"file\" id=\"files-a029895e-f8d1-410b-b977-cb1251435bd3\" name=\"files[]\" multiple disabled\n",
              "        style=\"border:none\" />\n",
              "     <output id=\"result-a029895e-f8d1-410b-b977-cb1251435bd3\">\n",
              "      Upload widget is only available when the cell has been executed in the\n",
              "      current browser session. Please rerun this cell to enable.\n",
              "      </output>\n",
              "      <script src=\"/nbextensions/google.colab/files.js\"></script> "
            ],
            "text/plain": [
              "<IPython.core.display.HTML object>"
            ]
          },
          "metadata": {}
        }
      ]
    },
    {
      "cell_type": "code",
      "metadata": {
        "colab": {
          "base_uri": "https://localhost:8080/"
        },
        "id": "TNTntWh-TBgp",
        "outputId": "72973da1-a06d-45df-b2fc-1fda2f7e8b9f"
      },
      "source": [
        "df_movies = pd.read_csv('IMDb movies.csv')"
      ],
      "execution_count": null,
      "outputs": [
        {
          "output_type": "stream",
          "name": "stderr",
          "text": [
            "/usr/local/lib/python3.7/dist-packages/IPython/core/interactiveshell.py:2718: DtypeWarning: Columns (3) have mixed types.Specify dtype option on import or set low_memory=False.\n",
            "  interactivity=interactivity, compiler=compiler, result=result)\n"
          ]
        }
      ]
    },
    {
      "cell_type": "code",
      "metadata": {
        "colab": {
          "base_uri": "https://localhost:8080/",
          "height": 1000
        },
        "id": "gxA6uk_gjm2f",
        "outputId": "bf740963-32e3-424d-b3c2-66d241c5b173"
      },
      "source": [
        "df_movies"
      ],
      "execution_count": null,
      "outputs": [
        {
          "output_type": "execute_result",
          "data": {
            "text/html": [
              "<div>\n",
              "<style scoped>\n",
              "    .dataframe tbody tr th:only-of-type {\n",
              "        vertical-align: middle;\n",
              "    }\n",
              "\n",
              "    .dataframe tbody tr th {\n",
              "        vertical-align: top;\n",
              "    }\n",
              "\n",
              "    .dataframe thead th {\n",
              "        text-align: right;\n",
              "    }\n",
              "</style>\n",
              "<table border=\"1\" class=\"dataframe\">\n",
              "  <thead>\n",
              "    <tr style=\"text-align: right;\">\n",
              "      <th></th>\n",
              "      <th>imdb_title_id</th>\n",
              "      <th>title</th>\n",
              "      <th>original_title</th>\n",
              "      <th>year</th>\n",
              "      <th>date_published</th>\n",
              "      <th>genre</th>\n",
              "      <th>duration</th>\n",
              "      <th>country</th>\n",
              "      <th>language</th>\n",
              "      <th>director</th>\n",
              "      <th>writer</th>\n",
              "      <th>production_company</th>\n",
              "      <th>actors</th>\n",
              "      <th>description</th>\n",
              "      <th>avg_vote</th>\n",
              "      <th>votes</th>\n",
              "      <th>budget</th>\n",
              "      <th>usa_gross_income</th>\n",
              "      <th>worlwide_gross_income</th>\n",
              "      <th>metascore</th>\n",
              "      <th>reviews_from_users</th>\n",
              "      <th>reviews_from_critics</th>\n",
              "    </tr>\n",
              "  </thead>\n",
              "  <tbody>\n",
              "    <tr>\n",
              "      <th>0</th>\n",
              "      <td>tt0000009</td>\n",
              "      <td>Miss Jerry</td>\n",
              "      <td>Miss Jerry</td>\n",
              "      <td>1894</td>\n",
              "      <td>1894-10-09</td>\n",
              "      <td>Romance</td>\n",
              "      <td>45</td>\n",
              "      <td>USA</td>\n",
              "      <td>None</td>\n",
              "      <td>Alexander Black</td>\n",
              "      <td>Alexander Black</td>\n",
              "      <td>Alexander Black Photoplays</td>\n",
              "      <td>Blanche Bayliss, William Courtenay, Chauncey D...</td>\n",
              "      <td>The adventures of a female reporter in the 1890s.</td>\n",
              "      <td>5.9</td>\n",
              "      <td>154</td>\n",
              "      <td>NaN</td>\n",
              "      <td>NaN</td>\n",
              "      <td>NaN</td>\n",
              "      <td>NaN</td>\n",
              "      <td>1.0</td>\n",
              "      <td>2.0</td>\n",
              "    </tr>\n",
              "    <tr>\n",
              "      <th>1</th>\n",
              "      <td>tt0000574</td>\n",
              "      <td>The Story of the Kelly Gang</td>\n",
              "      <td>The Story of the Kelly Gang</td>\n",
              "      <td>1906</td>\n",
              "      <td>1906-12-26</td>\n",
              "      <td>Biography, Crime, Drama</td>\n",
              "      <td>70</td>\n",
              "      <td>Australia</td>\n",
              "      <td>None</td>\n",
              "      <td>Charles Tait</td>\n",
              "      <td>Charles Tait</td>\n",
              "      <td>J. and N. Tait</td>\n",
              "      <td>Elizabeth Tait, John Tait, Norman Campbell, Be...</td>\n",
              "      <td>True story of notorious Australian outlaw Ned ...</td>\n",
              "      <td>6.1</td>\n",
              "      <td>589</td>\n",
              "      <td>$ 2250</td>\n",
              "      <td>NaN</td>\n",
              "      <td>NaN</td>\n",
              "      <td>NaN</td>\n",
              "      <td>7.0</td>\n",
              "      <td>7.0</td>\n",
              "    </tr>\n",
              "    <tr>\n",
              "      <th>2</th>\n",
              "      <td>tt0001892</td>\n",
              "      <td>Den sorte drøm</td>\n",
              "      <td>Den sorte drøm</td>\n",
              "      <td>1911</td>\n",
              "      <td>1911-08-19</td>\n",
              "      <td>Drama</td>\n",
              "      <td>53</td>\n",
              "      <td>Germany, Denmark</td>\n",
              "      <td>NaN</td>\n",
              "      <td>Urban Gad</td>\n",
              "      <td>Urban Gad, Gebhard Schätzler-Perasini</td>\n",
              "      <td>Fotorama</td>\n",
              "      <td>Asta Nielsen, Valdemar Psilander, Gunnar Helse...</td>\n",
              "      <td>Two men of high rank are both wooing the beaut...</td>\n",
              "      <td>5.8</td>\n",
              "      <td>188</td>\n",
              "      <td>NaN</td>\n",
              "      <td>NaN</td>\n",
              "      <td>NaN</td>\n",
              "      <td>NaN</td>\n",
              "      <td>5.0</td>\n",
              "      <td>2.0</td>\n",
              "    </tr>\n",
              "    <tr>\n",
              "      <th>3</th>\n",
              "      <td>tt0002101</td>\n",
              "      <td>Cleopatra</td>\n",
              "      <td>Cleopatra</td>\n",
              "      <td>1912</td>\n",
              "      <td>1912-11-13</td>\n",
              "      <td>Drama, History</td>\n",
              "      <td>100</td>\n",
              "      <td>USA</td>\n",
              "      <td>English</td>\n",
              "      <td>Charles L. Gaskill</td>\n",
              "      <td>Victorien Sardou</td>\n",
              "      <td>Helen Gardner Picture Players</td>\n",
              "      <td>Helen Gardner, Pearl Sindelar, Miss Fielding, ...</td>\n",
              "      <td>The fabled queen of Egypt's affair with Roman ...</td>\n",
              "      <td>5.2</td>\n",
              "      <td>446</td>\n",
              "      <td>$ 45000</td>\n",
              "      <td>NaN</td>\n",
              "      <td>NaN</td>\n",
              "      <td>NaN</td>\n",
              "      <td>25.0</td>\n",
              "      <td>3.0</td>\n",
              "    </tr>\n",
              "    <tr>\n",
              "      <th>4</th>\n",
              "      <td>tt0002130</td>\n",
              "      <td>L'Inferno</td>\n",
              "      <td>L'Inferno</td>\n",
              "      <td>1911</td>\n",
              "      <td>1911-03-06</td>\n",
              "      <td>Adventure, Drama, Fantasy</td>\n",
              "      <td>68</td>\n",
              "      <td>Italy</td>\n",
              "      <td>Italian</td>\n",
              "      <td>Francesco Bertolini, Adolfo Padovan</td>\n",
              "      <td>Dante Alighieri</td>\n",
              "      <td>Milano Film</td>\n",
              "      <td>Salvatore Papa, Arturo Pirovano, Giuseppe de L...</td>\n",
              "      <td>Loosely adapted from Dante's Divine Comedy and...</td>\n",
              "      <td>7.0</td>\n",
              "      <td>2237</td>\n",
              "      <td>NaN</td>\n",
              "      <td>NaN</td>\n",
              "      <td>NaN</td>\n",
              "      <td>NaN</td>\n",
              "      <td>31.0</td>\n",
              "      <td>14.0</td>\n",
              "    </tr>\n",
              "    <tr>\n",
              "      <th>...</th>\n",
              "      <td>...</td>\n",
              "      <td>...</td>\n",
              "      <td>...</td>\n",
              "      <td>...</td>\n",
              "      <td>...</td>\n",
              "      <td>...</td>\n",
              "      <td>...</td>\n",
              "      <td>...</td>\n",
              "      <td>...</td>\n",
              "      <td>...</td>\n",
              "      <td>...</td>\n",
              "      <td>...</td>\n",
              "      <td>...</td>\n",
              "      <td>...</td>\n",
              "      <td>...</td>\n",
              "      <td>...</td>\n",
              "      <td>...</td>\n",
              "      <td>...</td>\n",
              "      <td>...</td>\n",
              "      <td>...</td>\n",
              "      <td>...</td>\n",
              "      <td>...</td>\n",
              "    </tr>\n",
              "    <tr>\n",
              "      <th>85850</th>\n",
              "      <td>tt9908390</td>\n",
              "      <td>Le lion</td>\n",
              "      <td>Le lion</td>\n",
              "      <td>2020</td>\n",
              "      <td>2020-01-29</td>\n",
              "      <td>Comedy</td>\n",
              "      <td>95</td>\n",
              "      <td>France, Belgium</td>\n",
              "      <td>French</td>\n",
              "      <td>Ludovic Colbeau-Justin</td>\n",
              "      <td>Alexandre Coquelle, Matthieu Le Naour</td>\n",
              "      <td>Monkey Pack Films</td>\n",
              "      <td>Dany Boon, Philippe Katerine, Anne Serra, Samu...</td>\n",
              "      <td>A psychiatric hospital patient pretends to be ...</td>\n",
              "      <td>5.3</td>\n",
              "      <td>398</td>\n",
              "      <td>NaN</td>\n",
              "      <td>NaN</td>\n",
              "      <td>$ 3507171</td>\n",
              "      <td>NaN</td>\n",
              "      <td>NaN</td>\n",
              "      <td>4.0</td>\n",
              "    </tr>\n",
              "    <tr>\n",
              "      <th>85851</th>\n",
              "      <td>tt9911196</td>\n",
              "      <td>De Beentjes van Sint-Hildegard</td>\n",
              "      <td>De Beentjes van Sint-Hildegard</td>\n",
              "      <td>2020</td>\n",
              "      <td>2020-02-13</td>\n",
              "      <td>Comedy, Drama</td>\n",
              "      <td>103</td>\n",
              "      <td>Netherlands</td>\n",
              "      <td>German, Dutch</td>\n",
              "      <td>Johan Nijenhuis</td>\n",
              "      <td>Radek Bajgar, Herman Finkers</td>\n",
              "      <td>Johan Nijenhuis &amp; Co</td>\n",
              "      <td>Herman Finkers, Johanna ter Steege, Leonie ter...</td>\n",
              "      <td>A middle-aged veterinary surgeon believes his ...</td>\n",
              "      <td>7.7</td>\n",
              "      <td>724</td>\n",
              "      <td>NaN</td>\n",
              "      <td>NaN</td>\n",
              "      <td>$ 7299062</td>\n",
              "      <td>NaN</td>\n",
              "      <td>6.0</td>\n",
              "      <td>4.0</td>\n",
              "    </tr>\n",
              "    <tr>\n",
              "      <th>85852</th>\n",
              "      <td>tt9911774</td>\n",
              "      <td>Padmavyuhathile Abhimanyu</td>\n",
              "      <td>Padmavyuhathile Abhimanyu</td>\n",
              "      <td>2019</td>\n",
              "      <td>2019-03-08</td>\n",
              "      <td>Drama</td>\n",
              "      <td>130</td>\n",
              "      <td>India</td>\n",
              "      <td>Malayalam</td>\n",
              "      <td>Vineesh Aaradya</td>\n",
              "      <td>Vineesh Aaradya, Vineesh Aaradya</td>\n",
              "      <td>RMCC Productions</td>\n",
              "      <td>Anoop Chandran, Indrans, Sona Nair, Simon Brit...</td>\n",
              "      <td>NaN</td>\n",
              "      <td>7.9</td>\n",
              "      <td>265</td>\n",
              "      <td>NaN</td>\n",
              "      <td>NaN</td>\n",
              "      <td>NaN</td>\n",
              "      <td>NaN</td>\n",
              "      <td>NaN</td>\n",
              "      <td>NaN</td>\n",
              "    </tr>\n",
              "    <tr>\n",
              "      <th>85853</th>\n",
              "      <td>tt9914286</td>\n",
              "      <td>Sokagin Çocuklari</td>\n",
              "      <td>Sokagin Çocuklari</td>\n",
              "      <td>2019</td>\n",
              "      <td>2019-03-15</td>\n",
              "      <td>Drama, Family</td>\n",
              "      <td>98</td>\n",
              "      <td>Turkey</td>\n",
              "      <td>Turkish</td>\n",
              "      <td>Ahmet Faik Akinci</td>\n",
              "      <td>Ahmet Faik Akinci, Kasim Uçkan</td>\n",
              "      <td>Gizem Ajans</td>\n",
              "      <td>Ahmet Faik Akinci, Belma Mamati, Metin Keçeci,...</td>\n",
              "      <td>NaN</td>\n",
              "      <td>6.4</td>\n",
              "      <td>194</td>\n",
              "      <td>NaN</td>\n",
              "      <td>NaN</td>\n",
              "      <td>$ 2833</td>\n",
              "      <td>NaN</td>\n",
              "      <td>NaN</td>\n",
              "      <td>NaN</td>\n",
              "    </tr>\n",
              "    <tr>\n",
              "      <th>85854</th>\n",
              "      <td>tt9914942</td>\n",
              "      <td>La vida sense la Sara Amat</td>\n",
              "      <td>La vida sense la Sara Amat</td>\n",
              "      <td>2019</td>\n",
              "      <td>2020-02-05</td>\n",
              "      <td>Drama</td>\n",
              "      <td>74</td>\n",
              "      <td>Spain</td>\n",
              "      <td>Catalan</td>\n",
              "      <td>Laura Jou</td>\n",
              "      <td>Coral Cruz, Pep Puig</td>\n",
              "      <td>La Xarxa de Comunicació Local</td>\n",
              "      <td>Maria Morera Colomer, Biel Rossell Pelfort, Is...</td>\n",
              "      <td>Pep, a 13-year-old boy, is in love with a girl...</td>\n",
              "      <td>6.7</td>\n",
              "      <td>102</td>\n",
              "      <td>NaN</td>\n",
              "      <td>NaN</td>\n",
              "      <td>$ 59794</td>\n",
              "      <td>NaN</td>\n",
              "      <td>NaN</td>\n",
              "      <td>2.0</td>\n",
              "    </tr>\n",
              "  </tbody>\n",
              "</table>\n",
              "<p>85855 rows × 22 columns</p>\n",
              "</div>"
            ],
            "text/plain": [
              "      imdb_title_id  ... reviews_from_critics\n",
              "0         tt0000009  ...                  2.0\n",
              "1         tt0000574  ...                  7.0\n",
              "2         tt0001892  ...                  2.0\n",
              "3         tt0002101  ...                  3.0\n",
              "4         tt0002130  ...                 14.0\n",
              "...             ...  ...                  ...\n",
              "85850     tt9908390  ...                  4.0\n",
              "85851     tt9911196  ...                  4.0\n",
              "85852     tt9911774  ...                  NaN\n",
              "85853     tt9914286  ...                  NaN\n",
              "85854     tt9914942  ...                  2.0\n",
              "\n",
              "[85855 rows x 22 columns]"
            ]
          },
          "metadata": {},
          "execution_count": 8
        }
      ]
    },
    {
      "cell_type": "code",
      "metadata": {
        "colab": {
          "base_uri": "https://localhost:8080/"
        },
        "id": "ObUmfPivhYwy",
        "outputId": "f277f0bd-8cae-458c-a5be-e4a3c3158f94"
      },
      "source": [
        "from google.colab import drive\n",
        "drive.mount('/content/drive')"
      ],
      "execution_count": null,
      "outputs": [
        {
          "output_type": "stream",
          "name": "stdout",
          "text": [
            "Drive already mounted at /content/drive; to attempt to forcibly remount, call drive.mount(\"/content/drive\", force_remount=True).\n"
          ]
        }
      ]
    },
    {
      "cell_type": "code",
      "metadata": {
        "colab": {
          "base_uri": "https://localhost:8080/"
        },
        "id": "D5GMGFkpipVv",
        "outputId": "7450862e-6107-41c3-a4cf-95ddc10d82bb"
      },
      "source": [
        "# Get count of number of movies in dataset and number of columns\n",
        "df_movies.shape"
      ],
      "execution_count": null,
      "outputs": [
        {
          "output_type": "execute_result",
          "data": {
            "text/plain": [
              "(85855, 22)"
            ]
          },
          "metadata": {},
          "execution_count": 10
        }
      ]
    },
    {
      "cell_type": "code",
      "metadata": {
        "colab": {
          "base_uri": "https://localhost:8080/"
        },
        "id": "ladZPNLMjyQ7",
        "outputId": "abafea01-9fda-48fc-fcb1-8402290969c1"
      },
      "source": [
        "# check for any missing values in the important columns\n",
        "columns = ['title', 'genre', 'duration', 'director', 'actors', 'description']\n",
        "df_movies[columns].isnull().values.any()"
      ],
      "execution_count": null,
      "outputs": [
        {
          "output_type": "execute_result",
          "data": {
            "text/plain": [
              "True"
            ]
          },
          "metadata": {},
          "execution_count": 11
        }
      ]
    },
    {
      "cell_type": "code",
      "metadata": {
        "id": "MW3kjjXoktIc"
      },
      "source": [
        "# cleans data of null values\n",
        "df_mov_clean = df_movies[columns].dropna(0)"
      ],
      "execution_count": null,
      "outputs": []
    },
    {
      "cell_type": "code",
      "metadata": {
        "colab": {
          "base_uri": "https://localhost:8080/"
        },
        "id": "3s2WK3arlOXh",
        "outputId": "9a6ab1fb-c793-46f5-8275-1ef75bb8c1f2"
      },
      "source": [
        "df_mov_clean.isnull().values.any()"
      ],
      "execution_count": null,
      "outputs": [
        {
          "output_type": "execute_result",
          "data": {
            "text/plain": [
              "False"
            ]
          },
          "metadata": {},
          "execution_count": 13
        }
      ]
    },
    {
      "cell_type": "code",
      "metadata": {
        "id": "5hXb2aZhnd8I"
      },
      "source": [
        "# Convert reviews_from_critics to str\n",
        "#df_mov_clean['reviews_from_critics'] = df_mov_clean['reviews_from_critics'].to_string()\n",
        "df_mov_clean['duration'] = df_mov_clean['duration'].to_string()"
      ],
      "execution_count": null,
      "outputs": []
    },
    {
      "cell_type": "code",
      "metadata": {
        "colab": {
          "base_uri": "https://localhost:8080/",
          "height": 241
        },
        "id": "nB3JulHclhu-",
        "outputId": "402184ab-37bd-4be5-b40f-6846451b3c76"
      },
      "source": [
        "df_mov_clean.head(4)"
      ],
      "execution_count": null,
      "outputs": [
        {
          "output_type": "execute_result",
          "data": {
            "text/html": [
              "<div>\n",
              "<style scoped>\n",
              "    .dataframe tbody tr th:only-of-type {\n",
              "        vertical-align: middle;\n",
              "    }\n",
              "\n",
              "    .dataframe tbody tr th {\n",
              "        vertical-align: top;\n",
              "    }\n",
              "\n",
              "    .dataframe thead th {\n",
              "        text-align: right;\n",
              "    }\n",
              "</style>\n",
              "<table border=\"1\" class=\"dataframe\">\n",
              "  <thead>\n",
              "    <tr style=\"text-align: right;\">\n",
              "      <th></th>\n",
              "      <th>title</th>\n",
              "      <th>genre</th>\n",
              "      <th>duration</th>\n",
              "      <th>director</th>\n",
              "      <th>actors</th>\n",
              "      <th>description</th>\n",
              "    </tr>\n",
              "  </thead>\n",
              "  <tbody>\n",
              "    <tr>\n",
              "      <th>0</th>\n",
              "      <td>Miss Jerry</td>\n",
              "      <td>Romance</td>\n",
              "      <td>0         45\\n1         70\\n2         53\\n3   ...</td>\n",
              "      <td>Alexander Black</td>\n",
              "      <td>Blanche Bayliss, William Courtenay, Chauncey D...</td>\n",
              "      <td>The adventures of a female reporter in the 1890s.</td>\n",
              "    </tr>\n",
              "    <tr>\n",
              "      <th>1</th>\n",
              "      <td>The Story of the Kelly Gang</td>\n",
              "      <td>Biography, Crime, Drama</td>\n",
              "      <td>0         45\\n1         70\\n2         53\\n3   ...</td>\n",
              "      <td>Charles Tait</td>\n",
              "      <td>Elizabeth Tait, John Tait, Norman Campbell, Be...</td>\n",
              "      <td>True story of notorious Australian outlaw Ned ...</td>\n",
              "    </tr>\n",
              "    <tr>\n",
              "      <th>2</th>\n",
              "      <td>Den sorte drøm</td>\n",
              "      <td>Drama</td>\n",
              "      <td>0         45\\n1         70\\n2         53\\n3   ...</td>\n",
              "      <td>Urban Gad</td>\n",
              "      <td>Asta Nielsen, Valdemar Psilander, Gunnar Helse...</td>\n",
              "      <td>Two men of high rank are both wooing the beaut...</td>\n",
              "    </tr>\n",
              "    <tr>\n",
              "      <th>3</th>\n",
              "      <td>Cleopatra</td>\n",
              "      <td>Drama, History</td>\n",
              "      <td>0         45\\n1         70\\n2         53\\n3   ...</td>\n",
              "      <td>Charles L. Gaskill</td>\n",
              "      <td>Helen Gardner, Pearl Sindelar, Miss Fielding, ...</td>\n",
              "      <td>The fabled queen of Egypt's affair with Roman ...</td>\n",
              "    </tr>\n",
              "  </tbody>\n",
              "</table>\n",
              "</div>"
            ],
            "text/plain": [
              "                         title  ...                                        description\n",
              "0                   Miss Jerry  ...  The adventures of a female reporter in the 1890s.\n",
              "1  The Story of the Kelly Gang  ...  True story of notorious Australian outlaw Ned ...\n",
              "2               Den sorte drøm  ...  Two men of high rank are both wooing the beaut...\n",
              "3                    Cleopatra  ...  The fabled queen of Egypt's affair with Roman ...\n",
              "\n",
              "[4 rows x 6 columns]"
            ]
          },
          "metadata": {},
          "execution_count": 15
        }
      ]
    },
    {
      "cell_type": "code",
      "metadata": {
        "colab": {
          "base_uri": "https://localhost:8080/"
        },
        "id": "HFw76m22oTEs",
        "outputId": "6d33d469-b7ca-4d51-defc-95f2bb7687f7"
      },
      "source": [
        "df_mov_clean.dtypes"
      ],
      "execution_count": null,
      "outputs": [
        {
          "output_type": "execute_result",
          "data": {
            "text/plain": [
              "title          object\n",
              "genre          object\n",
              "duration       object\n",
              "director       object\n",
              "actors         object\n",
              "description    object\n",
              "dtype: object"
            ]
          },
          "metadata": {},
          "execution_count": 16
        }
      ]
    },
    {
      "cell_type": "code",
      "metadata": {
        "id": "teCyPl3YV0WF"
      },
      "source": [
        "df_mov_clean = df_mov_clean.reset_index(drop=True)"
      ],
      "execution_count": null,
      "outputs": []
    },
    {
      "cell_type": "code",
      "metadata": {
        "colab": {
          "base_uri": "https://localhost:8080/",
          "height": 589
        },
        "id": "0jkj-xEYK4Nw",
        "outputId": "f299cbdc-a0c1-4258-d744-2c4c8044c805"
      },
      "source": [
        "df_mov_clean"
      ],
      "execution_count": null,
      "outputs": [
        {
          "output_type": "execute_result",
          "data": {
            "text/html": [
              "<div>\n",
              "<style scoped>\n",
              "    .dataframe tbody tr th:only-of-type {\n",
              "        vertical-align: middle;\n",
              "    }\n",
              "\n",
              "    .dataframe tbody tr th {\n",
              "        vertical-align: top;\n",
              "    }\n",
              "\n",
              "    .dataframe thead th {\n",
              "        text-align: right;\n",
              "    }\n",
              "</style>\n",
              "<table border=\"1\" class=\"dataframe\">\n",
              "  <thead>\n",
              "    <tr style=\"text-align: right;\">\n",
              "      <th></th>\n",
              "      <th>title</th>\n",
              "      <th>genre</th>\n",
              "      <th>duration</th>\n",
              "      <th>director</th>\n",
              "      <th>actors</th>\n",
              "      <th>description</th>\n",
              "    </tr>\n",
              "  </thead>\n",
              "  <tbody>\n",
              "    <tr>\n",
              "      <th>0</th>\n",
              "      <td>Miss Jerry</td>\n",
              "      <td>Romance</td>\n",
              "      <td>0         45\\n1         70\\n2         53\\n3   ...</td>\n",
              "      <td>Alexander Black</td>\n",
              "      <td>Blanche Bayliss, William Courtenay, Chauncey D...</td>\n",
              "      <td>The adventures of a female reporter in the 1890s.</td>\n",
              "    </tr>\n",
              "    <tr>\n",
              "      <th>1</th>\n",
              "      <td>The Story of the Kelly Gang</td>\n",
              "      <td>Biography, Crime, Drama</td>\n",
              "      <td>0         45\\n1         70\\n2         53\\n3   ...</td>\n",
              "      <td>Charles Tait</td>\n",
              "      <td>Elizabeth Tait, John Tait, Norman Campbell, Be...</td>\n",
              "      <td>True story of notorious Australian outlaw Ned ...</td>\n",
              "    </tr>\n",
              "    <tr>\n",
              "      <th>2</th>\n",
              "      <td>Den sorte drøm</td>\n",
              "      <td>Drama</td>\n",
              "      <td>0         45\\n1         70\\n2         53\\n3   ...</td>\n",
              "      <td>Urban Gad</td>\n",
              "      <td>Asta Nielsen, Valdemar Psilander, Gunnar Helse...</td>\n",
              "      <td>Two men of high rank are both wooing the beaut...</td>\n",
              "    </tr>\n",
              "    <tr>\n",
              "      <th>3</th>\n",
              "      <td>Cleopatra</td>\n",
              "      <td>Drama, History</td>\n",
              "      <td>0         45\\n1         70\\n2         53\\n3   ...</td>\n",
              "      <td>Charles L. Gaskill</td>\n",
              "      <td>Helen Gardner, Pearl Sindelar, Miss Fielding, ...</td>\n",
              "      <td>The fabled queen of Egypt's affair with Roman ...</td>\n",
              "    </tr>\n",
              "    <tr>\n",
              "      <th>4</th>\n",
              "      <td>L'Inferno</td>\n",
              "      <td>Adventure, Drama, Fantasy</td>\n",
              "      <td>0         45\\n1         70\\n2         53\\n3   ...</td>\n",
              "      <td>Francesco Bertolini, Adolfo Padovan</td>\n",
              "      <td>Salvatore Papa, Arturo Pirovano, Giuseppe de L...</td>\n",
              "      <td>Loosely adapted from Dante's Divine Comedy and...</td>\n",
              "    </tr>\n",
              "    <tr>\n",
              "      <th>...</th>\n",
              "      <td>...</td>\n",
              "      <td>...</td>\n",
              "      <td>...</td>\n",
              "      <td>...</td>\n",
              "      <td>...</td>\n",
              "      <td>...</td>\n",
              "    </tr>\n",
              "    <tr>\n",
              "      <th>83601</th>\n",
              "      <td>Pengalila</td>\n",
              "      <td>Drama</td>\n",
              "      <td>0         45\\n1         70\\n2         53\\n3   ...</td>\n",
              "      <td>T.V. Chandran</td>\n",
              "      <td>Lal, Akshara Kishor, Iniya, Narain, Renji Pani...</td>\n",
              "      <td>An unusual bond between a sixty year old Dalit...</td>\n",
              "    </tr>\n",
              "    <tr>\n",
              "      <th>83602</th>\n",
              "      <td>Manoharam</td>\n",
              "      <td>Comedy, Drama</td>\n",
              "      <td>0         45\\n1         70\\n2         53\\n3   ...</td>\n",
              "      <td>Anvar Sadik</td>\n",
              "      <td>Vineeth Sreenivasan, Aparna Das, Basil Joseph,...</td>\n",
              "      <td>Manoharan is a poster artist struggling to fin...</td>\n",
              "    </tr>\n",
              "    <tr>\n",
              "      <th>83603</th>\n",
              "      <td>Le lion</td>\n",
              "      <td>Comedy</td>\n",
              "      <td>0         45\\n1         70\\n2         53\\n3   ...</td>\n",
              "      <td>Ludovic Colbeau-Justin</td>\n",
              "      <td>Dany Boon, Philippe Katerine, Anne Serra, Samu...</td>\n",
              "      <td>A psychiatric hospital patient pretends to be ...</td>\n",
              "    </tr>\n",
              "    <tr>\n",
              "      <th>83604</th>\n",
              "      <td>De Beentjes van Sint-Hildegard</td>\n",
              "      <td>Comedy, Drama</td>\n",
              "      <td>0         45\\n1         70\\n2         53\\n3   ...</td>\n",
              "      <td>Johan Nijenhuis</td>\n",
              "      <td>Herman Finkers, Johanna ter Steege, Leonie ter...</td>\n",
              "      <td>A middle-aged veterinary surgeon believes his ...</td>\n",
              "    </tr>\n",
              "    <tr>\n",
              "      <th>83605</th>\n",
              "      <td>La vida sense la Sara Amat</td>\n",
              "      <td>Drama</td>\n",
              "      <td>0         45\\n1         70\\n2         53\\n3   ...</td>\n",
              "      <td>Laura Jou</td>\n",
              "      <td>Maria Morera Colomer, Biel Rossell Pelfort, Is...</td>\n",
              "      <td>Pep, a 13-year-old boy, is in love with a girl...</td>\n",
              "    </tr>\n",
              "  </tbody>\n",
              "</table>\n",
              "<p>83606 rows × 6 columns</p>\n",
              "</div>"
            ],
            "text/plain": [
              "                                title  ...                                        description\n",
              "0                          Miss Jerry  ...  The adventures of a female reporter in the 1890s.\n",
              "1         The Story of the Kelly Gang  ...  True story of notorious Australian outlaw Ned ...\n",
              "2                      Den sorte drøm  ...  Two men of high rank are both wooing the beaut...\n",
              "3                           Cleopatra  ...  The fabled queen of Egypt's affair with Roman ...\n",
              "4                           L'Inferno  ...  Loosely adapted from Dante's Divine Comedy and...\n",
              "...                               ...  ...                                                ...\n",
              "83601                       Pengalila  ...  An unusual bond between a sixty year old Dalit...\n",
              "83602                       Manoharam  ...  Manoharan is a poster artist struggling to fin...\n",
              "83603                         Le lion  ...  A psychiatric hospital patient pretends to be ...\n",
              "83604  De Beentjes van Sint-Hildegard  ...  A middle-aged veterinary surgeon believes his ...\n",
              "83605      La vida sense la Sara Amat  ...  Pep, a 13-year-old boy, is in love with a girl...\n",
              "\n",
              "[83606 rows x 6 columns]"
            ]
          },
          "metadata": {},
          "execution_count": 51
        }
      ]
    },
    {
      "cell_type": "code",
      "metadata": {
        "colab": {
          "base_uri": "https://localhost:8080/"
        },
        "id": "9BFAZg3nXY0J",
        "outputId": "129d99e6-f01d-461c-bd9d-ef83e2cbddac"
      },
      "source": [
        "df_mov_clean.iloc[105]"
      ],
      "execution_count": null,
      "outputs": [
        {
          "output_type": "execute_result",
          "data": {
            "text/plain": [
              "title                                          Straight Shooting\n",
              "genre                                                    Western\n",
              "duration       0         45\\n1         70\\n2         53\\n3   ...\n",
              "director                                               John Ford\n",
              "actors         Harry Carey, Duke R. Lee, George Berrell, Moll...\n",
              "description    Cattleman Flint cuts off farmer Sims' water su...\n",
              "Name: 105, dtype: object"
            ]
          },
          "metadata": {},
          "execution_count": 52
        }
      ]
    },
    {
      "cell_type": "code",
      "metadata": {
        "id": "nsZHCRsBU34q"
      },
      "source": [
        "df_move_clean_2 = df_mov_clean.drop(104)"
      ],
      "execution_count": null,
      "outputs": []
    },
    {
      "cell_type": "code",
      "metadata": {
        "id": "YJvFCv_AcFaA"
      },
      "source": [
        "important_features = []"
      ],
      "execution_count": null,
      "outputs": []
    },
    {
      "cell_type": "code",
      "metadata": {
        "id": "37DLPsGVl2qv"
      },
      "source": [
        "# create a function to combine the values of the important columns into a single string\n",
        "def get_important_features(data):\n",
        "  for i in range(0, data.shape[0]):\n",
        "    important_features = data['title'][i] + ' ' + data['genre'][i] + ' ' + data['actors'][i] + ' ' + data['description'][i]\n",
        "    if i==8001:\n",
        "      break\n",
        "    else:\n",
        "      continue\n",
        "  return important_features"
      ],
      "execution_count": null,
      "outputs": []
    },
    {
      "cell_type": "code",
      "metadata": {
        "colab": {
          "base_uri": "https://localhost:8080/",
          "height": 69
        },
        "id": "MVjKkQzEmzGf",
        "outputId": "6f7c507c-d159-4671-8bc6-fad07256b642"
      },
      "source": [
        "# create a column to hold the combined strings\n",
        "get_important_features(df_mov_clean)"
      ],
      "execution_count": null,
      "outputs": [
        {
          "output_type": "execute_result",
          "data": {
            "application/vnd.google.colaboratory.intrinsic+json": {
              "type": "string"
            },
            "text/plain": [
              "'Nana Drama, Romance Charles Boyer, Martine Carol, Walter Chiari, Paul Frankeur, Elisa Cegani, Jean Debucourt, Marguerite Pierry, Dario Michaelis, Dora Doll, Palau, Luisella Boni, Jacqueline Plessis, Germaine Kerjean, Nerio Bernardi, Jacques Tarride The amorous career of a courtesan and how she met her death at the hands of a rejected lover.'"
            ]
          },
          "metadata": {},
          "execution_count": 66
        }
      ]
    },
    {
      "cell_type": "code",
      "metadata": {
        "colab": {
          "base_uri": "https://localhost:8080/"
        },
        "id": "shc2IvJheL_G",
        "outputId": "5799b83c-20ec-4973-b67c-90fcb84b5d76"
      },
      "source": [
        "len(important_features)"
      ],
      "execution_count": null,
      "outputs": [
        {
          "output_type": "execute_result",
          "data": {
            "text/plain": [
              "8001"
            ]
          },
          "metadata": {},
          "execution_count": 67
        }
      ]
    },
    {
      "cell_type": "code",
      "metadata": {
        "id": "qElopZk9eDwb"
      },
      "source": [
        "df_mov_clean_1 = df_mov_clean.loc[:8000, ]"
      ],
      "execution_count": null,
      "outputs": []
    },
    {
      "cell_type": "code",
      "metadata": {
        "id": "DVr1F1nNfKiJ"
      },
      "source": [
        "important_features = pd.Series(important_features)"
      ],
      "execution_count": null,
      "outputs": []
    },
    {
      "cell_type": "code",
      "metadata": {
        "colab": {
          "base_uri": "https://localhost:8080/"
        },
        "id": "X4NLpIx3gH4T",
        "outputId": "0f71e8ca-5f1e-4a80-f70d-bd2cc3cbeeae"
      },
      "source": [
        "important_features.values"
      ],
      "execution_count": null,
      "outputs": [
        {
          "output_type": "execute_result",
          "data": {
            "text/plain": [
              "array(['Miss Jerry Romance Blanche Bayliss, William Courtenay, Chauncey Depew The adventures of a female reporter in the 1890s.',\n",
              "       'The Story of the Kelly Gang Biography, Crime, Drama Elizabeth Tait, John Tait, Norman Campbell, Bella Cola, Will Coyne, Sam Crewes, Jack Ennis, John Forde, Vera Linden, Mr. Marshall, Mr. McKenzie, Frank Mills, Ollie Wilson True story of notorious Australian outlaw Ned Kelly (1855-80).',\n",
              "       \"Den sorte drøm Drama Asta Nielsen, Valdemar Psilander, Gunnar Helsengreen, Emil Albes, Hugo Flink, Mary Hagen Two men of high rank are both wooing the beautiful and famous equestrian acrobat Stella. While Stella ignores the jeweler Hirsch, she accepts Count von Waldberg's offer to follow her home, ...\",\n",
              "       ...,\n",
              "       \"L'amore di una grande regina Comedy, History, Romance Romy Schneider, Adrian Hoven, Magda Schneider, Karl Ludwig Diehl, Christl Mardayn, Paul Hörbiger, Rudolf Vogel, Fred Liewehr, Alfred Neugebauer, Otto Treßler, Stefan Skodler, Peter Weck, Rudolf Lenz, Hans Thimig, Peter Gerhard England, the 19th century. Young Victoria is crowned to be the queen of England. She aims to do her best in order to help her country prosper. However, the family and her trustful advisor, ...\",\n",
              "       'Anatomia di un delitto Crime, Drama, Film-Noir Sterling Hayden, Gloria Grahame, Gene Barry, Marcia Henderson, Max Showalter, Billy Chapin, Chuck Connors, Don Haggerty, Stuart Randall, Don Garrett, Richard Beach, Tol Avery, Paul Levitt, Fay Roope, Joseph Mell A chief of police detectives fired for brutality, tries to get evidence on a man suspected of killing 3 of his officers.',\n",
              "       'Furia bianca Adventure, Drama, Thriller Eleanor Parker, Charlton Heston, Abraham Sofaer, William Conrad, Romo Vincent, Douglas Fowley, John Dierkes, Leonard Strong, Norma Calderón The Leiningen South American cocoa plantation is threatened by a 2-mile-wide, 20-mile-long column of army ants.'],\n",
              "      dtype=object)"
            ]
          },
          "metadata": {},
          "execution_count": 76
        }
      ]
    },
    {
      "cell_type": "code",
      "metadata": {
        "id": "P0Vjl98wb4M-"
      },
      "source": [
        "df_mov_clean_1['important_features'] = important_features"
      ],
      "execution_count": null,
      "outputs": []
    },
    {
      "cell_type": "code",
      "metadata": {
        "colab": {
          "base_uri": "https://localhost:8080/",
          "height": 759
        },
        "id": "9liEn5nQoR5S",
        "outputId": "60d993af-588a-48c8-de5c-4bb4536df3c4"
      },
      "source": [
        "df_mov_clean_1"
      ],
      "execution_count": null,
      "outputs": [
        {
          "output_type": "execute_result",
          "data": {
            "text/html": [
              "<div>\n",
              "<style scoped>\n",
              "    .dataframe tbody tr th:only-of-type {\n",
              "        vertical-align: middle;\n",
              "    }\n",
              "\n",
              "    .dataframe tbody tr th {\n",
              "        vertical-align: top;\n",
              "    }\n",
              "\n",
              "    .dataframe thead th {\n",
              "        text-align: right;\n",
              "    }\n",
              "</style>\n",
              "<table border=\"1\" class=\"dataframe\">\n",
              "  <thead>\n",
              "    <tr style=\"text-align: right;\">\n",
              "      <th></th>\n",
              "      <th>title</th>\n",
              "      <th>genre</th>\n",
              "      <th>duration</th>\n",
              "      <th>director</th>\n",
              "      <th>actors</th>\n",
              "      <th>description</th>\n",
              "      <th>important_features</th>\n",
              "    </tr>\n",
              "  </thead>\n",
              "  <tbody>\n",
              "    <tr>\n",
              "      <th>0</th>\n",
              "      <td>Miss Jerry</td>\n",
              "      <td>Romance</td>\n",
              "      <td>0         45\\n1         70\\n2         53\\n3   ...</td>\n",
              "      <td>Alexander Black</td>\n",
              "      <td>Blanche Bayliss, William Courtenay, Chauncey D...</td>\n",
              "      <td>The adventures of a female reporter in the 1890s.</td>\n",
              "      <td>Miss Jerry Romance Blanche Bayliss, William Co...</td>\n",
              "    </tr>\n",
              "    <tr>\n",
              "      <th>1</th>\n",
              "      <td>The Story of the Kelly Gang</td>\n",
              "      <td>Biography, Crime, Drama</td>\n",
              "      <td>0         45\\n1         70\\n2         53\\n3   ...</td>\n",
              "      <td>Charles Tait</td>\n",
              "      <td>Elizabeth Tait, John Tait, Norman Campbell, Be...</td>\n",
              "      <td>True story of notorious Australian outlaw Ned ...</td>\n",
              "      <td>The Story of the Kelly Gang Biography, Crime, ...</td>\n",
              "    </tr>\n",
              "    <tr>\n",
              "      <th>2</th>\n",
              "      <td>Den sorte drøm</td>\n",
              "      <td>Drama</td>\n",
              "      <td>0         45\\n1         70\\n2         53\\n3   ...</td>\n",
              "      <td>Urban Gad</td>\n",
              "      <td>Asta Nielsen, Valdemar Psilander, Gunnar Helse...</td>\n",
              "      <td>Two men of high rank are both wooing the beaut...</td>\n",
              "      <td>Den sorte drøm Drama Asta Nielsen, Valdemar Ps...</td>\n",
              "    </tr>\n",
              "    <tr>\n",
              "      <th>3</th>\n",
              "      <td>Cleopatra</td>\n",
              "      <td>Drama, History</td>\n",
              "      <td>0         45\\n1         70\\n2         53\\n3   ...</td>\n",
              "      <td>Charles L. Gaskill</td>\n",
              "      <td>Helen Gardner, Pearl Sindelar, Miss Fielding, ...</td>\n",
              "      <td>The fabled queen of Egypt's affair with Roman ...</td>\n",
              "      <td>Cleopatra Drama, History Helen Gardner, Pearl ...</td>\n",
              "    </tr>\n",
              "    <tr>\n",
              "      <th>4</th>\n",
              "      <td>L'Inferno</td>\n",
              "      <td>Adventure, Drama, Fantasy</td>\n",
              "      <td>0         45\\n1         70\\n2         53\\n3   ...</td>\n",
              "      <td>Francesco Bertolini, Adolfo Padovan</td>\n",
              "      <td>Salvatore Papa, Arturo Pirovano, Giuseppe de L...</td>\n",
              "      <td>Loosely adapted from Dante's Divine Comedy and...</td>\n",
              "      <td>L'Inferno Adventure, Drama, Fantasy Salvatore ...</td>\n",
              "    </tr>\n",
              "    <tr>\n",
              "      <th>...</th>\n",
              "      <td>...</td>\n",
              "      <td>...</td>\n",
              "      <td>...</td>\n",
              "      <td>...</td>\n",
              "      <td>...</td>\n",
              "      <td>...</td>\n",
              "      <td>...</td>\n",
              "    </tr>\n",
              "    <tr>\n",
              "      <th>7996</th>\n",
              "      <td>Monster from the Ocean Floor</td>\n",
              "      <td>Horror, Sci-Fi</td>\n",
              "      <td>0         45\\n1         70\\n2         53\\n3   ...</td>\n",
              "      <td>Wyott Ordung</td>\n",
              "      <td>Anne Kimbell, Stuart Wade, Dick Pinner, Wyott ...</td>\n",
              "      <td>Julie, an American on vacation in Mexico, spot...</td>\n",
              "      <td>Monster from the Ocean Floor Horror, Sci-Fi An...</td>\n",
              "    </tr>\n",
              "    <tr>\n",
              "      <th>7997</th>\n",
              "      <td>Il montone a cinque zampe</td>\n",
              "      <td>Comedy</td>\n",
              "      <td>0         45\\n1         70\\n2         53\\n3   ...</td>\n",
              "      <td>Henri Verneuil</td>\n",
              "      <td>Fernandel, Françoise Arnoul, Andrex, Michel Ar...</td>\n",
              "      <td>A small town seeking publicity tries to bring ...</td>\n",
              "      <td>Il montone a cinque zampe Comedy Fernandel, Fr...</td>\n",
              "    </tr>\n",
              "    <tr>\n",
              "      <th>7998</th>\n",
              "      <td>L'amore di una grande regina</td>\n",
              "      <td>Comedy, History, Romance</td>\n",
              "      <td>0         45\\n1         70\\n2         53\\n3   ...</td>\n",
              "      <td>Ernst Marischka</td>\n",
              "      <td>Romy Schneider, Adrian Hoven, Magda Schneider,...</td>\n",
              "      <td>England, the 19th century. Young Victoria is c...</td>\n",
              "      <td>L'amore di una grande regina Comedy, History, ...</td>\n",
              "    </tr>\n",
              "    <tr>\n",
              "      <th>7999</th>\n",
              "      <td>Anatomia di un delitto</td>\n",
              "      <td>Crime, Drama, Film-Noir</td>\n",
              "      <td>0         45\\n1         70\\n2         53\\n3   ...</td>\n",
              "      <td>Jerry Hopper</td>\n",
              "      <td>Sterling Hayden, Gloria Grahame, Gene Barry, M...</td>\n",
              "      <td>A chief of police detectives fired for brutali...</td>\n",
              "      <td>Anatomia di un delitto Crime, Drama, Film-Noir...</td>\n",
              "    </tr>\n",
              "    <tr>\n",
              "      <th>8000</th>\n",
              "      <td>Furia bianca</td>\n",
              "      <td>Adventure, Drama, Thriller</td>\n",
              "      <td>0         45\\n1         70\\n2         53\\n3   ...</td>\n",
              "      <td>Byron Haskin</td>\n",
              "      <td>Eleanor Parker, Charlton Heston, Abraham Sofae...</td>\n",
              "      <td>The Leiningen South American cocoa plantation ...</td>\n",
              "      <td>Furia bianca Adventure, Drama, Thriller Eleano...</td>\n",
              "    </tr>\n",
              "  </tbody>\n",
              "</table>\n",
              "<p>8001 rows × 7 columns</p>\n",
              "</div>"
            ],
            "text/plain": [
              "                             title  ...                                 important_features\n",
              "0                       Miss Jerry  ...  Miss Jerry Romance Blanche Bayliss, William Co...\n",
              "1      The Story of the Kelly Gang  ...  The Story of the Kelly Gang Biography, Crime, ...\n",
              "2                   Den sorte drøm  ...  Den sorte drøm Drama Asta Nielsen, Valdemar Ps...\n",
              "3                        Cleopatra  ...  Cleopatra Drama, History Helen Gardner, Pearl ...\n",
              "4                        L'Inferno  ...  L'Inferno Adventure, Drama, Fantasy Salvatore ...\n",
              "...                            ...  ...                                                ...\n",
              "7996  Monster from the Ocean Floor  ...  Monster from the Ocean Floor Horror, Sci-Fi An...\n",
              "7997     Il montone a cinque zampe  ...  Il montone a cinque zampe Comedy Fernandel, Fr...\n",
              "7998  L'amore di una grande regina  ...  L'amore di una grande regina Comedy, History, ...\n",
              "7999        Anatomia di un delitto  ...  Anatomia di un delitto Crime, Drama, Film-Noir...\n",
              "8000                  Furia bianca  ...  Furia bianca Adventure, Drama, Thriller Eleano...\n",
              "\n",
              "[8001 rows x 7 columns]"
            ]
          },
          "metadata": {},
          "execution_count": 78
        }
      ]
    },
    {
      "cell_type": "code",
      "metadata": {
        "colab": {
          "base_uri": "https://localhost:8080/"
        },
        "id": "VtaXnHzNJ373",
        "outputId": "e82eeca6-08eb-4a8f-bc66-c23f16c7fda6"
      },
      "source": [
        "df_mov_clean_1.dtypes"
      ],
      "execution_count": null,
      "outputs": [
        {
          "output_type": "execute_result",
          "data": {
            "text/plain": [
              "title                 object\n",
              "genre                 object\n",
              "duration              object\n",
              "director              object\n",
              "actors                object\n",
              "description           object\n",
              "important_features    object\n",
              "dtype: object"
            ]
          },
          "metadata": {},
          "execution_count": 79
        }
      ]
    },
    {
      "cell_type": "code",
      "metadata": {
        "id": "NeN6H4I4nB0G"
      },
      "source": [
        "# Convert text to matrix of token counts\n",
        "cm = CountVectorizer().fit_transform(df_mov_clean_1['important_features'].values.astype('U'))"
      ],
      "execution_count": null,
      "outputs": []
    },
    {
      "cell_type": "code",
      "metadata": {
        "colab": {
          "base_uri": "https://localhost:8080/"
        },
        "id": "ua8epRE-b3fN",
        "outputId": "392d9e20-2e1c-45ea-9cc7-b93747c73ec2"
      },
      "source": [
        "#Get cosine similarity matrix from count matrix\n",
        "cs = cosine_similarity(cm)\n",
        "#print cosine similarity matrix\n",
        "#shows how similar a movie is to every other movie based on the traits selected\n",
        "print(cs)"
      ],
      "execution_count": null,
      "outputs": [
        {
          "output_type": "stream",
          "name": "stdout",
          "text": [
            "[[1.         0.17920431 0.16062314 ... 0.20751434 0.08536656 0.13994229]\n",
            " [0.17920431 1.         0.12761066 ... 0.10467582 0.12918358 0.13897536]\n",
            " [0.16062314 0.12761066 1.         ... 0.21110017 0.08684168 0.08541628]\n",
            " ...\n",
            " [0.20751434 0.10467582 0.21110017 ... 1.         0.09972768 0.07663341]\n",
            " [0.08536656 0.12918358 0.08684168 ... 0.09972768 1.         0.07566048]\n",
            " [0.13994229 0.13897536 0.08541628 ... 0.07663341 0.07566048 1.        ]]\n"
          ]
        }
      ]
    },
    {
      "cell_type": "code",
      "metadata": {
        "colab": {
          "base_uri": "https://localhost:8080/"
        },
        "id": "9HLlqCbSbsz9",
        "outputId": "772a6cc6-d49a-46a5-8d58-8b2d821d228a"
      },
      "source": [
        "# Get shape of cosine similarity matrix\n",
        "cs.shape"
      ],
      "execution_count": null,
      "outputs": [
        {
          "output_type": "execute_result",
          "data": {
            "text/plain": [
              "(8001, 8001)"
            ]
          },
          "metadata": {},
          "execution_count": 82
        }
      ]
    },
    {
      "cell_type": "code",
      "metadata": {
        "id": "psX_ItBMnuQo"
      },
      "source": [
        "# Create column of index values\n",
        "df_mov_clean_1['Movie_id'] = range(len(important_features))"
      ],
      "execution_count": null,
      "outputs": []
    },
    {
      "cell_type": "code",
      "metadata": {
        "colab": {
          "base_uri": "https://localhost:8080/",
          "height": 793
        },
        "id": "GcOQC0Rvo0ka",
        "outputId": "8ce325d0-cb30-4324-a3d0-e0d9bdbba5b7"
      },
      "source": [
        "df_mov_clean_1"
      ],
      "execution_count": null,
      "outputs": [
        {
          "output_type": "execute_result",
          "data": {
            "text/html": [
              "<div>\n",
              "<style scoped>\n",
              "    .dataframe tbody tr th:only-of-type {\n",
              "        vertical-align: middle;\n",
              "    }\n",
              "\n",
              "    .dataframe tbody tr th {\n",
              "        vertical-align: top;\n",
              "    }\n",
              "\n",
              "    .dataframe thead th {\n",
              "        text-align: right;\n",
              "    }\n",
              "</style>\n",
              "<table border=\"1\" class=\"dataframe\">\n",
              "  <thead>\n",
              "    <tr style=\"text-align: right;\">\n",
              "      <th></th>\n",
              "      <th>title</th>\n",
              "      <th>genre</th>\n",
              "      <th>duration</th>\n",
              "      <th>director</th>\n",
              "      <th>actors</th>\n",
              "      <th>description</th>\n",
              "      <th>important_features</th>\n",
              "      <th>Movie_id</th>\n",
              "    </tr>\n",
              "  </thead>\n",
              "  <tbody>\n",
              "    <tr>\n",
              "      <th>0</th>\n",
              "      <td>Miss Jerry</td>\n",
              "      <td>Romance</td>\n",
              "      <td>0         45\\n1         70\\n2         53\\n3   ...</td>\n",
              "      <td>Alexander Black</td>\n",
              "      <td>Blanche Bayliss, William Courtenay, Chauncey D...</td>\n",
              "      <td>The adventures of a female reporter in the 1890s.</td>\n",
              "      <td>Miss Jerry Romance Blanche Bayliss, William Co...</td>\n",
              "      <td>0</td>\n",
              "    </tr>\n",
              "    <tr>\n",
              "      <th>1</th>\n",
              "      <td>The Story of the Kelly Gang</td>\n",
              "      <td>Biography, Crime, Drama</td>\n",
              "      <td>0         45\\n1         70\\n2         53\\n3   ...</td>\n",
              "      <td>Charles Tait</td>\n",
              "      <td>Elizabeth Tait, John Tait, Norman Campbell, Be...</td>\n",
              "      <td>True story of notorious Australian outlaw Ned ...</td>\n",
              "      <td>The Story of the Kelly Gang Biography, Crime, ...</td>\n",
              "      <td>1</td>\n",
              "    </tr>\n",
              "    <tr>\n",
              "      <th>2</th>\n",
              "      <td>Den sorte drøm</td>\n",
              "      <td>Drama</td>\n",
              "      <td>0         45\\n1         70\\n2         53\\n3   ...</td>\n",
              "      <td>Urban Gad</td>\n",
              "      <td>Asta Nielsen, Valdemar Psilander, Gunnar Helse...</td>\n",
              "      <td>Two men of high rank are both wooing the beaut...</td>\n",
              "      <td>Den sorte drøm Drama Asta Nielsen, Valdemar Ps...</td>\n",
              "      <td>2</td>\n",
              "    </tr>\n",
              "    <tr>\n",
              "      <th>3</th>\n",
              "      <td>Cleopatra</td>\n",
              "      <td>Drama, History</td>\n",
              "      <td>0         45\\n1         70\\n2         53\\n3   ...</td>\n",
              "      <td>Charles L. Gaskill</td>\n",
              "      <td>Helen Gardner, Pearl Sindelar, Miss Fielding, ...</td>\n",
              "      <td>The fabled queen of Egypt's affair with Roman ...</td>\n",
              "      <td>Cleopatra Drama, History Helen Gardner, Pearl ...</td>\n",
              "      <td>3</td>\n",
              "    </tr>\n",
              "    <tr>\n",
              "      <th>4</th>\n",
              "      <td>L'Inferno</td>\n",
              "      <td>Adventure, Drama, Fantasy</td>\n",
              "      <td>0         45\\n1         70\\n2         53\\n3   ...</td>\n",
              "      <td>Francesco Bertolini, Adolfo Padovan</td>\n",
              "      <td>Salvatore Papa, Arturo Pirovano, Giuseppe de L...</td>\n",
              "      <td>Loosely adapted from Dante's Divine Comedy and...</td>\n",
              "      <td>L'Inferno Adventure, Drama, Fantasy Salvatore ...</td>\n",
              "      <td>4</td>\n",
              "    </tr>\n",
              "    <tr>\n",
              "      <th>...</th>\n",
              "      <td>...</td>\n",
              "      <td>...</td>\n",
              "      <td>...</td>\n",
              "      <td>...</td>\n",
              "      <td>...</td>\n",
              "      <td>...</td>\n",
              "      <td>...</td>\n",
              "      <td>...</td>\n",
              "    </tr>\n",
              "    <tr>\n",
              "      <th>7996</th>\n",
              "      <td>Monster from the Ocean Floor</td>\n",
              "      <td>Horror, Sci-Fi</td>\n",
              "      <td>0         45\\n1         70\\n2         53\\n3   ...</td>\n",
              "      <td>Wyott Ordung</td>\n",
              "      <td>Anne Kimbell, Stuart Wade, Dick Pinner, Wyott ...</td>\n",
              "      <td>Julie, an American on vacation in Mexico, spot...</td>\n",
              "      <td>Monster from the Ocean Floor Horror, Sci-Fi An...</td>\n",
              "      <td>7996</td>\n",
              "    </tr>\n",
              "    <tr>\n",
              "      <th>7997</th>\n",
              "      <td>Il montone a cinque zampe</td>\n",
              "      <td>Comedy</td>\n",
              "      <td>0         45\\n1         70\\n2         53\\n3   ...</td>\n",
              "      <td>Henri Verneuil</td>\n",
              "      <td>Fernandel, Françoise Arnoul, Andrex, Michel Ar...</td>\n",
              "      <td>A small town seeking publicity tries to bring ...</td>\n",
              "      <td>Il montone a cinque zampe Comedy Fernandel, Fr...</td>\n",
              "      <td>7997</td>\n",
              "    </tr>\n",
              "    <tr>\n",
              "      <th>7998</th>\n",
              "      <td>L'amore di una grande regina</td>\n",
              "      <td>Comedy, History, Romance</td>\n",
              "      <td>0         45\\n1         70\\n2         53\\n3   ...</td>\n",
              "      <td>Ernst Marischka</td>\n",
              "      <td>Romy Schneider, Adrian Hoven, Magda Schneider,...</td>\n",
              "      <td>England, the 19th century. Young Victoria is c...</td>\n",
              "      <td>L'amore di una grande regina Comedy, History, ...</td>\n",
              "      <td>7998</td>\n",
              "    </tr>\n",
              "    <tr>\n",
              "      <th>7999</th>\n",
              "      <td>Anatomia di un delitto</td>\n",
              "      <td>Crime, Drama, Film-Noir</td>\n",
              "      <td>0         45\\n1         70\\n2         53\\n3   ...</td>\n",
              "      <td>Jerry Hopper</td>\n",
              "      <td>Sterling Hayden, Gloria Grahame, Gene Barry, M...</td>\n",
              "      <td>A chief of police detectives fired for brutali...</td>\n",
              "      <td>Anatomia di un delitto Crime, Drama, Film-Noir...</td>\n",
              "      <td>7999</td>\n",
              "    </tr>\n",
              "    <tr>\n",
              "      <th>8000</th>\n",
              "      <td>Furia bianca</td>\n",
              "      <td>Adventure, Drama, Thriller</td>\n",
              "      <td>0         45\\n1         70\\n2         53\\n3   ...</td>\n",
              "      <td>Byron Haskin</td>\n",
              "      <td>Eleanor Parker, Charlton Heston, Abraham Sofae...</td>\n",
              "      <td>The Leiningen South American cocoa plantation ...</td>\n",
              "      <td>Furia bianca Adventure, Drama, Thriller Eleano...</td>\n",
              "      <td>8000</td>\n",
              "    </tr>\n",
              "  </tbody>\n",
              "</table>\n",
              "<p>8001 rows × 8 columns</p>\n",
              "</div>"
            ],
            "text/plain": [
              "                             title  ... Movie_id\n",
              "0                       Miss Jerry  ...        0\n",
              "1      The Story of the Kelly Gang  ...        1\n",
              "2                   Den sorte drøm  ...        2\n",
              "3                        Cleopatra  ...        3\n",
              "4                        L'Inferno  ...        4\n",
              "...                            ...  ...      ...\n",
              "7996  Monster from the Ocean Floor  ...     7996\n",
              "7997     Il montone a cinque zampe  ...     7997\n",
              "7998  L'amore di una grande regina  ...     7998\n",
              "7999        Anatomia di un delitto  ...     7999\n",
              "8000                  Furia bianca  ...     8000\n",
              "\n",
              "[8001 rows x 8 columns]"
            ]
          },
          "metadata": {},
          "execution_count": 84
        }
      ]
    },
    {
      "cell_type": "code",
      "metadata": {
        "id": "_zfADvYohvg6"
      },
      "source": [
        "# Get title of the movie that user likes\n",
        "title = 'Miss Jerry'"
      ],
      "execution_count": null,
      "outputs": []
    },
    {
      "cell_type": "code",
      "metadata": {
        "id": "X9yBeBChnP0S"
      },
      "source": [
        "# Find the movie id to sort movies\n",
        "movie_id = df_mov_clean_1[df_mov_clean_1.title == title]['Movie_id'].values[0]"
      ],
      "execution_count": null,
      "outputs": []
    },
    {
      "cell_type": "code",
      "metadata": {
        "id": "3O8AYYLPpFAW"
      },
      "source": [
        "# Create list of enumerations for similarity scores\n",
        "scores = list(enumerate(cs[movie_id]))"
      ],
      "execution_count": null,
      "outputs": []
    },
    {
      "cell_type": "code",
      "metadata": {
        "id": "eOoD26UQpZ_7"
      },
      "source": [
        "# Sort the list of similarity scores\n",
        "sorted_scores = sorted(scores, key = lambda x:x[1], reverse=True)\n",
        "sorted_scores=sorted_scores[1:]"
      ],
      "execution_count": null,
      "outputs": []
    },
    {
      "cell_type": "code",
      "metadata": {
        "colab": {
          "base_uri": "https://localhost:8080/"
        },
        "id": "Kjb-gmwfpnWS",
        "outputId": "c71a269d-a363-4827-e1f6-7f6385b4d6ba"
      },
      "source": [
        "# Create loop to print first 8 movies based on similarity scores\n",
        "j = 0\n",
        "print('The 8 Most Recommended Titles to ', title, 'are:\\n')\n",
        "for item in sorted_scores:\n",
        "  movie_title = df_mov_clean_1[df_mov_clean_1.Movie_id == item[0]]['title'].values[0]\n",
        "  print(j+1, movie_title)\n",
        "  j=j+1\n",
        "  if j>8:\n",
        "    break"
      ],
      "execution_count": null,
      "outputs": [
        {
          "output_type": "stream",
          "name": "stdout",
          "text": [
            "The 8 Most Recommended Titles to  Miss Jerry are:\n",
            "\n",
            "1 Down to the Sea in Ships\n",
            "2 The Nigger\n",
            "3 The Blot\n",
            "4 She Had to Say Yes\n",
            "5 North of the Great Divide\n",
            "6 The Mark of the Whistler\n",
            "7 The Red Mill\n",
            "8 La corazzata Potemkin\n",
            "9 Duello col pirata nero\n"
          ]
        }
      ]
    },
    {
      "cell_type": "code",
      "metadata": {
        "id": "Stb_3uLJqo5I"
      },
      "source": [
        ""
      ],
      "execution_count": null,
      "outputs": []
    }
  ]
}